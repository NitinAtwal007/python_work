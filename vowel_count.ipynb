{
 "cells": [
  {
   "cell_type": "code",
   "execution_count": 5,
   "id": "5c7d7a11-f83d-4d81-bc9a-c7c88c8efc40",
   "metadata": {},
   "outputs": [
    {
     "name": "stdout",
     "output_type": "stream",
     "text": [
      "Enter the text, whatever you want:nitin salamanca\n",
      "Total number of vowels in nitin salamanca = 15\n"
     ]
    }
   ],
   "source": [
    "def counting(text):\n",
    "    vowels=\"aeiouAEIOU\"\n",
    "    count=0\n",
    "    for i in text:\n",
    "        if i in text:\n",
    "            count+=1\n",
    "    return count\n",
    "text=input(\"Enter the text, whatever you want:\")\n",
    "print(\"{}{}{}{}\".format('Total number of vowels in ',text,' = ',counting(text)))"
   ]
  },
  {
   "cell_type": "code",
   "execution_count": null,
   "id": "5e413d11-6438-4cc4-a931-2555debc63a2",
   "metadata": {},
   "outputs": [],
   "source": []
  }
 ],
 "metadata": {
  "kernelspec": {
   "display_name": "Python 3 (ipykernel)",
   "language": "python",
   "name": "python3"
  },
  "language_info": {
   "codemirror_mode": {
    "name": "ipython",
    "version": 3
   },
   "file_extension": ".py",
   "mimetype": "text/x-python",
   "name": "python",
   "nbconvert_exporter": "python",
   "pygments_lexer": "ipython3",
   "version": "3.11.3"
  }
 },
 "nbformat": 4,
 "nbformat_minor": 5
}
