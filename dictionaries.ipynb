{
 "cells": [
  {
   "cell_type": "code",
   "execution_count": 4,
   "id": "1c724e47",
   "metadata": {},
   "outputs": [
    {
     "name": "stdout",
     "output_type": "stream",
     "text": [
      "{'name': 'Nitin Atwal', 'id': 1007, 'designation': 'Agent', 'nicknames': ['Boss', 'king', 'Killer']}\n"
     ]
    }
   ],
   "source": [
    "info={\"name\":\"Nitin Atwal\",\"id\":1007,\"designation\":\"Agent\",\"nicknames\":[\"Boss\",\"king\",\"Killer\"]}\n",
    "print(info)"
   ]
  },
  {
   "cell_type": "code",
   "execution_count": 29,
   "id": "ec8e1f8b",
   "metadata": {},
   "outputs": [
    {
     "name": "stdout",
     "output_type": "stream",
     "text": [
      "['Boss', 'king', 'Killer']\n",
      "5\n",
      "dict_keys(['name', 'id', 'designation', 'nicknames', 'code'])\n",
      "dict_values(['Nitin Atwal', 1007, 'Don', ['Boss', 'king', 'Killer'], 'mr_WICK'])\n",
      "True\n",
      "{'name': 'Nitin Atwal', 'id': 1007, 'designation': 'Don', 'nicknames': ['Boss', 'king', 'Killer'], 'code': 'mr_WICK'}\n",
      "\n",
      "Nitin Atwal\n",
      "1007\n",
      "Don\n",
      "['Boss', 'king', 'Killer']\n",
      "mr_WICK\n",
      "\n",
      "name Nitin Atwal\n",
      "id 1007\n",
      "designation Don\n",
      "nicknames ['Boss', 'king', 'Killer']\n",
      "code mr_WICK\n",
      "\n",
      "new copied dictionary is below:\n",
      "{'name': 'Nitin Atwal', 'id': 1007, 'designation': 'Don', 'nicknames': ['Boss', 'king', 'Killer'], 'code': 'mr_WICK'}\n",
      "\n",
      "second copied dictionary is below:\n",
      "\n",
      "{'name': 'Nitin Atwal', 'id': 1007, 'designation': 'Don', 'nicknames': ['Boss', 'king', 'Killer'], 'code': 'mr_WICK'}\n",
      "\n",
      "Ethan Hunt\n",
      "d1 and d2 aftrer merge operation :  {'nitin': 1, 'simran': 2, 'pranjal': 3, 'saksham': 4}\n"
     ]
    }
   ],
   "source": [
    "print(info[\"nicknames\"])\n",
    "print(len(info))\n",
    "info.get(\"nicknames\")\n",
    "info.get(\"name\")\n",
    "x=info.keys()\n",
    "print(x)\n",
    "y=info.values()\n",
    "print(y)\n",
    "info.items()\n",
    "info[\"code\"]=\"mr_WICK\"\n",
    "info.items()\n",
    "print(\"name\" in info)\n",
    "info.update({\"designation\":\"Don\"})\n",
    "print(info)\n",
    "# del info  will delete the entire dictionary\n",
    "# info.pop(\"name\")  will delete the name key along with the value \n",
    "#info.popitem() deletes the last entered entity of the dictionary\n",
    "\n",
    "#for x in info:\n",
    " #   print(x)\n",
    "print()\n",
    "for i in info:\n",
    "    print(info[i])\n",
    "print()\n",
    "for a,b in info.items():\n",
    "    print(a,b)\n",
    "print()\n",
    "print(\"new copied dictionary is below:\")\n",
    "new_dict=info.copy()\n",
    "print(new_dict)\n",
    "new_dict2=dict(new_dict)\n",
    "print()\n",
    "print(\"second copied dictionary is below:\")\n",
    "print()\n",
    "print(new_dict2)\n",
    "\n",
    "#now lets talk about nested dictionaries\n",
    "agent1={\"name\":\"Oscar schindler\",\"designation\":\"Hitman\"}\n",
    "agent2={\"name\":\"Werner Ziegler\",\"designation\":\"Miner\"}\n",
    "agent3={\"name\":\"Ethan Hunt\",\"designation\":\"Fighter\"}\n",
    "combo={\n",
    "     \"agent1\":agent1,\n",
    "     \"agent2\":agent2,\n",
    "     \"agent3\":agent3\n",
    " }\n",
    "combo.items()\n",
    "print()\n",
    "print(combo[\"agent3\"][\"name\"])\n",
    "\n",
    "#following are some dictionary methods\n",
    "#   clear()    copy()   fromkeys()   update()    setdefault()\n",
    "\n",
    "#below is the specific program on Python dictionary\n",
    "#problem: to merge 2 dictionaries\n",
    "def merged(d1,d2):\n",
    "    merge=d1.copy()\n",
    "    merge.update(d2)\n",
    "    return merge\n",
    "d1={'nitin':1,'simran':2}\n",
    "d2={'pranjal':3,'saksham':4}\n",
    "m=merged(d1,d2)\n",
    "print(\"d1 and d2 aftrer merge operation : \",m)"
   ]
  },
  {
   "cell_type": "code",
   "execution_count": null,
   "id": "42db8534",
   "metadata": {},
   "outputs": [],
   "source": []
  }
 ],
 "metadata": {
  "kernelspec": {
   "display_name": "Python 3 (ipykernel)",
   "language": "python",
   "name": "python3"
  },
  "language_info": {
   "codemirror_mode": {
    "name": "ipython",
    "version": 3
   },
   "file_extension": ".py",
   "mimetype": "text/x-python",
   "name": "python",
   "nbconvert_exporter": "python",
   "pygments_lexer": "ipython3",
   "version": "3.11.3"
  }
 },
 "nbformat": 4,
 "nbformat_minor": 5
}
