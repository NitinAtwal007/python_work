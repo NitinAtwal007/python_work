{
 "cells": [
  {
   "cell_type": "code",
   "execution_count": 8,
   "id": "a005f997",
   "metadata": {},
   "outputs": [
    {
     "name": "stdout",
     "output_type": "stream",
     "text": [
      "NITIN ATWAL 7007\n",
      "SHASHANK 7008\n",
      "SALAMANCA 7009\n",
      "Exiting from the thread\n",
      "The body after the thread has been started nowonwards:\n",
      "Enter the side of the square: 34\n",
      "The area of square is equal to  1156 per unit square\n"
     ]
    }
   ],
   "source": [
    "import threading\n",
    "\n",
    "class thread(threading.Thread):\n",
    "    def __init__(self,name,id):\n",
    "        threading.Thread.__init__(self)\n",
    "        self.name=name\n",
    "        self.id=id\n",
    "        \n",
    "    def run(self):\n",
    "        print(str(self.name) +\" \"+ str(self.id));\n",
    "thread1=thread(\"NITIN ATWAL\", 7007)\n",
    "thread2=thread(\"SHASHANK\", 7008 )\n",
    "thread3=thread(\"SALAMANCA\",7009)\n",
    "\n",
    "thread1.start()\n",
    "thread2.start()\n",
    "thread3.start()\n",
    "\n",
    "\n",
    "print(\"Exiting from the thread\")\n",
    "\n",
    "print(\"The body after the thread has been started nowonwards:\")\n",
    "class Square:\n",
    "    def __init__(self,side):\n",
    "        self.side=side\n",
    "        \n",
    "    def area(self):\n",
    "        return self.side * self.side\n",
    "side=int(input(\"Enter the side of the square: \"))\n",
    "\n",
    "obj1=Square(side)\n",
    "area1=obj1.area()\n",
    "print(\"{}{}{}\".format(\"The area of square is equal to  \",area1,\" per unit square\"))"
   ]
  },
  {
   "cell_type": "code",
   "execution_count": null,
   "id": "c04cf624",
   "metadata": {},
   "outputs": [],
   "source": []
  },
  {
   "cell_type": "code",
   "execution_count": null,
   "id": "b3b3da30",
   "metadata": {},
   "outputs": [],
   "source": []
  }
 ],
 "metadata": {
  "kernelspec": {
   "display_name": "Python 3 (ipykernel)",
   "language": "python",
   "name": "python3"
  },
  "language_info": {
   "codemirror_mode": {
    "name": "ipython",
    "version": 3
   },
   "file_extension": ".py",
   "mimetype": "text/x-python",
   "name": "python",
   "nbconvert_exporter": "python",
   "pygments_lexer": "ipython3",
   "version": "3.11.3"
  }
 },
 "nbformat": 4,
 "nbformat_minor": 5
}
