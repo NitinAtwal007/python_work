{
 "cells": [
  {
   "cell_type": "code",
   "execution_count": 1,
   "id": "4879c9ac",
   "metadata": {},
   "outputs": [
    {
     "name": "stdout",
     "output_type": "stream",
     "text": [
      "Enter the  radius of circle :  10\n",
      "The area of the circle having the radius equals to 10.0 = 314.0\n",
      "Enter the length of rectangle21\n",
      "Enter the breadth of rectangle21\n",
      "The area of rectangle having length equals to 21 & breadth  equals TO    21 =  441   square units\n"
     ]
    }
   ],
   "source": [
    "class Circle:\n",
    "    def __init__(x,r):\n",
    "        x.r=r\n",
    "    def area(x):\n",
    "        return 3.14 * x.r**2\n",
    "\n",
    "\n",
    "r=float(input(\"Enter the  radius of circle :  \"))\n",
    "c= Circle(r)\n",
    "a= c.area()\n",
    "print(\"The area of the circle having the radius equals to {} =\".format(r),a)\n",
    "\n",
    "class Rectangle:\n",
    "    def __init__(self,l,b):\n",
    "        self.l=l\n",
    "        self.b=b\n",
    "    def area1(self):\n",
    "        return self.l * self.b\n",
    "l=int(input(\"Enter the length of rectangle\"))\n",
    "b=int(input(\"Enter the breadth of rectangle\"))\n",
    "a1=Rectangle(l,b)\n",
    "b2=a1.area1()\n",
    "print(\"The area of rectangle having length equals to {} & breadth {}  {} =  {}  {}\".format(l,' equals TO  ',b,b2,' square units'))\n"
   ]
  },
  {
   "cell_type": "code",
   "execution_count": null,
   "id": "4686e1fc",
   "metadata": {},
   "outputs": [],
   "source": []
  }
 ],
 "metadata": {
  "kernelspec": {
   "display_name": "Python 3 (ipykernel)",
   "language": "python",
   "name": "python3"
  },
  "language_info": {
   "codemirror_mode": {
    "name": "ipython",
    "version": 3
   },
   "file_extension": ".py",
   "mimetype": "text/x-python",
   "name": "python",
   "nbconvert_exporter": "python",
   "pygments_lexer": "ipython3",
   "version": "3.11.3"
  }
 },
 "nbformat": 4,
 "nbformat_minor": 5
}
